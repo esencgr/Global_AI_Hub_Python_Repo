{
 "cells": [
  {
   "cell_type": "markdown",
   "metadata": {},
   "source": [
    "###                       HOMEWORK - 2 "
   ]
  },
  {
   "cell_type": "markdown",
   "metadata": {},
   "source": [
    "<img src=\"HW2.png\" alt=\"drawing\" width=\"650\" />"
   ]
  },
  {
   "cell_type": "code",
   "execution_count": 5,
   "metadata": {},
   "outputs": [
    {
     "name": "stdout",
     "output_type": "stream",
     "text": [
      "enter name: cgr\n",
      "enter surname: esen\n",
      "enter age: 23\n",
      "enter birth year: 1990\n",
      "\n",
      "-- Informations --\n",
      "cgr\n",
      "esen\n",
      "23\n",
      "1990\n",
      "You can go out to the street\n"
     ]
    }
   ],
   "source": [
    "# create information list \n",
    "info_list = list()\n",
    "\n",
    "# get user inputs\n",
    "name = input(\"enter name: \")\n",
    "surname = input(\"enter surname: \")\n",
    "age = input(\"enter age: \")\n",
    "birth = input(\"enter birth year: \")\n",
    "\n",
    "# # passes the informations to the list WTH APPEND \n",
    "info_list.append([name, surname, age, birth])\n",
    "\n",
    "# passes the informations to the list WTH SPLIT\n",
    "# create a new str \n",
    "# info_str = name + \" \" + surname + \" \" + age + \" \" + birth\n",
    "# info_list = info_str.split()\n",
    "\n",
    "# printing informations\n",
    "print(\"\\n-- Informations --\")\n",
    "for info in info_list[0]:\n",
    "    print(info)\n",
    "\n",
    "if int(age) < 18:\n",
    "    print(\"You can't go out because it's soo dangerous\")\n",
    "else:\n",
    "    print(\"You can go out to the street\")\n",
    "    \n"
   ]
  },
  {
   "cell_type": "code",
   "execution_count": null,
   "metadata": {},
   "outputs": [],
   "source": []
  },
  {
   "cell_type": "code",
   "execution_count": null,
   "metadata": {},
   "outputs": [],
   "source": []
  },
  {
   "cell_type": "code",
   "execution_count": null,
   "metadata": {},
   "outputs": [],
   "source": []
  },
  {
   "cell_type": "code",
   "execution_count": null,
   "metadata": {},
   "outputs": [],
   "source": []
  }
 ],
 "metadata": {
  "kernelspec": {
   "display_name": "Python 3",
   "language": "python",
   "name": "python3"
  },
  "language_info": {
   "codemirror_mode": {
    "name": "ipython",
    "version": 3
   },
   "file_extension": ".py",
   "mimetype": "text/x-python",
   "name": "python",
   "nbconvert_exporter": "python",
   "pygments_lexer": "ipython3",
   "version": "3.8.5"
  }
 },
 "nbformat": 4,
 "nbformat_minor": 4
}
