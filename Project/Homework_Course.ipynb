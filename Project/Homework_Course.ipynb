{
 "cells": [
  {
   "cell_type": "markdown",
   "metadata": {},
   "source": [
    "<img src=\"Homework_Course.png\" alt=\"drawing\" height=1000 width=\"1000\" >"
   ]
  },
  {
   "cell_type": "code",
   "execution_count": 1,
   "metadata": {},
   "outputs": [
    {
     "name": "stdout",
     "output_type": "stream",
     "text": [
      "enter name : cgr\n",
      "enter surname : esen\n",
      "WELCOME\n"
     ]
    }
   ],
   "source": [
    "# get user information\n",
    "stu = {\"name\":\"cgr\", \"surname\":\"esen\"}\n",
    "count = 1 \n",
    "\n",
    "while True:\n",
    "    \n",
    "    name = input(\"enter name : \")\n",
    "    surname = input(\"enter surname : \")\n",
    "    \n",
    "    if name == stu[\"name\"] and surname ==stu[\"surname\"]:\n",
    "        print(\"WELCOME\")\n",
    "        break\n",
    "    else:\n",
    "        print(\"INCORRECT ENTER\\n\")\n",
    "        count += 1\n",
    "    \n",
    "    if count > 3:\n",
    "        print(\"TRY AGAIN LATER\")\n",
    "        break\n"
   ]
  },
  {
   "cell_type": "code",
   "execution_count": 2,
   "metadata": {},
   "outputs": [
    {
     "name": "stdout",
     "output_type": "stream",
     "text": [
      "enter course : math\n",
      "enter course : algo\n",
      "enter course : agile\n",
      "enter course : linear\n",
      "enter course : scrum\n",
      "['math', 'algo', 'agile', 'linear', 'scrum']\n"
     ]
    }
   ],
   "source": [
    "# 5 courses shuold be created + kept a list + take from user \n",
    "course_list = list()\n",
    "\n",
    "for i in range(0,5):\n",
    "    c = input(\"enter course : \")\n",
    "    course_list.append(c)\n",
    "    \n",
    "print(course_list)\n"
   ]
  },
  {
   "cell_type": "code",
   "execution_count": 3,
   "metadata": {},
   "outputs": [
    {
     "name": "stdout",
     "output_type": "stream",
     "text": [
      "course list for choose :  ['math', 'algo', 'agile', 'linear', 'scrum'] \n",
      "\n",
      "enter courses that you want to choose (for quit q) : math\n",
      "enter courses that you want to choose (for quit q) : algo\n",
      "enter courses that you want to choose (for quit q) : agile\n",
      "enter courses that you want to choose (for quit q) : p\n",
      "course dont found or already chosen!!\n",
      "enter courses that you want to choose (for quit q) : q\n",
      "\n",
      "your courses list: ['math', 'algo', 'agile']\n"
     ]
    }
   ],
   "source": [
    "# This student can take a min 3 max 5 courses // otherwise the message \"you failed in the class\" return\n",
    "def get_course(course_list):\n",
    "    print(\"course list for choose : \", course_list, \"\\n\")\n",
    "    student_course = list()\n",
    "    sz = 0\n",
    "    \n",
    "    while True:\n",
    "        c = input(\"enter courses that you want to choose (for quit q) : \")\n",
    "        if c == \"q\":\n",
    "            break\n",
    "        elif c in course_list and c not in student_course:\n",
    "            student_course.append(c)\n",
    "            sz += 1 \n",
    "        else:\n",
    "            print(\"course dont found or already chosen!!\")\n",
    "    \n",
    "    if sz < 3 or sz > 5:\n",
    "        student_course.clear()\n",
    "        print(\"you failed in the class!!\")\n",
    "        \n",
    "    print(\"\\nyour courses list:\", student_course)  \n",
    "    \n",
    "get_course(course_list)"
   ]
  },
  {
   "cell_type": "code",
   "execution_count": 8,
   "metadata": {},
   "outputs": [
    {
     "name": "stdout",
     "output_type": "stream",
     "text": [
      "please choose one of lesson : math\n",
      "enter midterm : 80\n",
      "enter final : 90\n",
      "enter project : 10\n",
      "{'midterm': 80, 'final': 90, 'project': 10}\n",
      "the percentage of notes : 71.000\n",
      "BB\n"
     ]
    }
   ],
   "source": [
    "# choose one of them and take exam dict =  {\"midterm\":20, \"final\":80, \"project\":100 }\n",
    "input(\"please choose one of lesson : \")\n",
    "exams = dict()\n",
    "\n",
    "exams[\"midterm\"] = int(input(\"enter midterm : \"))\n",
    "exams[\"final\"] = int(input(\"enter final : \"))\n",
    "exams[\"project\"] = int(input(\"enter project : \"))\n",
    "\n",
    "print(exams)\n",
    "\n",
    "# determine percentage mid 30 fin 50 pro 20\n",
    "\n",
    "percentage = exams[\"midterm\"] * 0.3 + exams[\"final\"] * 0.5 + exams[\"project\"] * 0.2\n",
    "print(f\"the percentage of notes : {percentage:.3f}\")\n",
    "\n",
    "# course passing grade \n",
    "\n",
    "if percentage in range(90, 101):\n",
    "    print(\"AA\")\n",
    "elif percentage in range(70, 90):\n",
    "    print(\"BB\")\n",
    "elif percentage in range(50, 70):\n",
    "    print(\"CC\")\n",
    "elif percentage in range(30, 50):\n",
    "    print(\"DD\")\n",
    "else:\n",
    "    print(\"FF\")\n",
    "    print(\"you failed\")\n",
    "    \n",
    "    "
   ]
  },
  {
   "cell_type": "code",
   "execution_count": null,
   "metadata": {},
   "outputs": [],
   "source": []
  },
  {
   "cell_type": "code",
   "execution_count": null,
   "metadata": {},
   "outputs": [],
   "source": []
  }
 ],
 "metadata": {
  "kernelspec": {
   "display_name": "Python 3",
   "language": "python",
   "name": "python3"
  },
  "language_info": {
   "codemirror_mode": {
    "name": "ipython",
    "version": 3
   },
   "file_extension": ".py",
   "mimetype": "text/x-python",
   "name": "python",
   "nbconvert_exporter": "python",
   "pygments_lexer": "ipython3",
   "version": "3.8.5"
  }
 },
 "nbformat": 4,
 "nbformat_minor": 4
}
