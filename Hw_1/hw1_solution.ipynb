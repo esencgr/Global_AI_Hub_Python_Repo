{
 "cells": [
  {
   "cell_type": "markdown",
   "metadata": {},
   "source": [
    "<img src=\"HW1.jpeg\">"
   ]
  },
  {
   "cell_type": "code",
   "execution_count": 4,
   "metadata": {},
   "outputs": [
    {
     "name": "stdout",
     "output_type": "stream",
     "text": [
      "1\n",
      "2.3\n",
      "1\n",
      "abcd\n",
      "1+3j\n",
      "\n",
      "value of var1: 1 \t type of var1: <class 'int'>\n",
      "\n",
      "value of var2: 2.3 \t type of var2: <class 'float'>\n",
      "\n",
      "value of var3: True \t type of var3: <class 'bool'>\n",
      "\n",
      "value of var4: abcd \t type of var4: <class 'str'>\n",
      "\n",
      "value of var5: (1+3j) \t type of var5: <class 'complex'>\n",
      "\n"
     ]
    }
   ],
   "source": [
    "var1 = int(input())\n",
    "var2 = float(input())\n",
    "var3 = bool(int(input()))\n",
    "var4 = str(input())\n",
    "var5 = complex(input())\n",
    "\n",
    "print(f\"\\nvalue of var1: {var1} \\t type of var1: {type(var1)}\\n\")\n",
    "print(f\"value of var2: {var2} \\t type of var2: {type(var2)}\\n\")\n",
    "print(f\"value of var3: {var3} \\t type of var3: {type(var3)}\\n\")\n",
    "print(f\"value of var4: {var4} \\t type of var4: {type(var4)}\\n\")\n",
    "print(f\"value of var5: {var5} \\t type of var5: {type(var5)}\\n\")\n"
   ]
  },
  {
   "cell_type": "code",
   "execution_count": null,
   "metadata": {},
   "outputs": [],
   "source": []
  },
  {
   "cell_type": "code",
   "execution_count": null,
   "metadata": {},
   "outputs": [],
   "source": []
  },
  {
   "cell_type": "code",
   "execution_count": null,
   "metadata": {},
   "outputs": [],
   "source": []
  },
  {
   "cell_type": "code",
   "execution_count": null,
   "metadata": {},
   "outputs": [],
   "source": []
  },
  {
   "cell_type": "code",
   "execution_count": null,
   "metadata": {},
   "outputs": [],
   "source": []
  },
  {
   "cell_type": "code",
   "execution_count": null,
   "metadata": {},
   "outputs": [],
   "source": []
  },
  {
   "cell_type": "code",
   "execution_count": null,
   "metadata": {},
   "outputs": [],
   "source": []
  },
  {
   "cell_type": "code",
   "execution_count": null,
   "metadata": {},
   "outputs": [],
   "source": []
  },
  {
   "cell_type": "code",
   "execution_count": null,
   "metadata": {},
   "outputs": [],
   "source": []
  },
  {
   "cell_type": "code",
   "execution_count": null,
   "metadata": {},
   "outputs": [],
   "source": []
  },
  {
   "cell_type": "code",
   "execution_count": null,
   "metadata": {},
   "outputs": [],
   "source": []
  },
  {
   "cell_type": "code",
   "execution_count": null,
   "metadata": {},
   "outputs": [],
   "source": []
  }
 ],
 "metadata": {
  "kernelspec": {
   "display_name": "Python 3",
   "language": "python",
   "name": "python3"
  },
  "language_info": {
   "codemirror_mode": {
    "name": "ipython",
    "version": 3
   },
   "file_extension": ".py",
   "mimetype": "text/x-python",
   "name": "python",
   "nbconvert_exporter": "python",
   "pygments_lexer": "ipython3",
   "version": "3.8.5"
  }
 },
 "nbformat": 4,
 "nbformat_minor": 4
}
